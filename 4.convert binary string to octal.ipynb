{
 "cells": [
  {
   "cell_type": "code",
   "execution_count": 2,
   "metadata": {},
   "outputs": [
    {
     "name": "stdout",
     "output_type": "stream",
     "text": [
      "oct(0b1111)=0o17\n",
      "hex(0b1111)=0xf\n"
     ]
    }
   ],
   "source": [
    "bv=input(\"input the binary value preceded with 0B:\")\n",
    "iv=int(bv,2)\n",
    "ov=oct(iv)\n",
    "hv=hex(iv)\n",
    "print(\"oct({})={}\".format(bv,ov))\n",
    "print(\"hex({})={}\".format(bv,hv))"
   ]
  },
  {
   "cell_type": "code",
   "execution_count": null,
   "metadata": {},
   "outputs": [],
   "source": []
  }
 ],
 "metadata": {
  "kernelspec": {
   "display_name": "base",
   "language": "python",
   "name": "python3"
  },
  "language_info": {
   "codemirror_mode": {
    "name": "ipython",
    "version": 3
   },
   "file_extension": ".py",
   "mimetype": "text/x-python",
   "name": "python",
   "nbconvert_exporter": "python",
   "pygments_lexer": "ipython3",
   "version": "3.12.4"
  }
 },
 "nbformat": 4,
 "nbformat_minor": 2
}
