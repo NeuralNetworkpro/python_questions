{
 "cells": [
  {
   "cell_type": "code",
   "execution_count": 19,
   "metadata": {},
   "outputs": [
    {
     "name": "stdout",
     "output_type": "stream",
     "text": [
      "[[1], [1, 2], [1, 2, 3], [2], [2, 3], [3]]\n"
     ]
    }
   ],
   "source": [
    "# find the substrings\n",
    "\n",
    "def find_substring(arr):\n",
    "    n=len(arr)\n",
    "    x=[]\n",
    "    for i in range(n):\n",
    "        for j in range(i,n):\n",
    "            x.append(arr[i:j+1])\n",
    "    print(x)\n",
    "\n",
    "arr=[1,2,3]\n",
    "find_substring(arr)"
   ]
  },
  {
   "cell_type": "code",
   "execution_count": 20,
   "metadata": {},
   "outputs": [
    {
     "name": "stdout",
     "output_type": "stream",
     "text": [
      "Subarrays: [[1], [1, 2], [1, 2, 3], [2], [2, 3], [3]]\n"
     ]
    }
   ],
   "source": [
    "arr = [1, 2, 3]\n",
    "\n",
    "# List to store all subarrays\n",
    "subarrays = []\n",
    "\n",
    "# Loop through all starting points\n",
    "for i in range(len(arr)):\n",
    "    # Loop through all ending points\n",
    "    for j in range(i + 1, len(arr) + 1):\n",
    "        subarrays.append(arr[i:j])\n",
    "\n",
    "# Output the result\n",
    "print(\"Subarrays:\", subarrays)\n"
   ]
  },
  {
   "cell_type": "code",
   "execution_count": 37,
   "metadata": {},
   "outputs": [
    {
     "name": "stdout",
     "output_type": "stream",
     "text": [
      "False\n"
     ]
    }
   ],
   "source": [
    "# search in unsorted array\n",
    "def sea_arry(arr,target):\n",
    "    for ele in arr:\n",
    "        if (ele ==target):\n",
    "            return True\n",
    "\n",
    "    return False\n",
    "\n",
    "arr=[56,71,18,45,10,34,20]\n",
    "target=57\n",
    "r=sea_arry(arr,target)\n",
    "print(r)"
   ]
  },
  {
   "cell_type": "code",
   "execution_count": 38,
   "metadata": {},
   "outputs": [
    {
     "name": "stdout",
     "output_type": "stream",
     "text": [
      "Negative number\n",
      "Zero\n",
      "Positive number\n"
     ]
    }
   ],
   "source": [
    "def example_function(x):\n",
    "    if x < 0:\n",
    "        return \"Negative number\"\n",
    "    elif x == 0:\n",
    "        return \"Zero\"\n",
    "    else:\n",
    "        return \"Positive number\"\n",
    "\n",
    "# Test cases\n",
    "print(example_function(-5))  # Output: Negative number\n",
    "print(example_function(0))   # Output: Zero\n",
    "print(example_function(5))   # Output: Positive number\n"
   ]
  },
  {
   "cell_type": "code",
   "execution_count": 40,
   "metadata": {},
   "outputs": [
    {
     "name": "stdout",
     "output_type": "stream",
     "text": [
      "[20, 34, 10, 45, 18, 71, 56]\n"
     ]
    }
   ],
   "source": [
    "# reverse a array\n",
    "\n",
    "def reverse_arr(arr):\n",
    "    n=len(arr)\n",
    "    for i in range(n//2+1):\n",
    "        arr[i],arr[n-1-i]=arr[n-1-i],arr[i]\n",
    "        \n",
    "\n",
    "arr=[56,71,18,45,10,34,20]\n",
    "reverse_arr(arr)\n",
    "print(arr)"
   ]
  },
  {
   "cell_type": "code",
   "execution_count": 47,
   "metadata": {},
   "outputs": [
    {
     "name": "stdout",
     "output_type": "stream",
     "text": [
      "[20, 34, 10, 45, 18, 71, 56]\n"
     ]
    }
   ],
   "source": [
    "def reverse_arr(arr):\n",
    "    a=[]\n",
    "    n=len(arr)\n",
    "    for i in range(n-1,-1,-1):\n",
    "        a.append(arr[i])\n",
    "    return a\n",
    "        \n",
    "\n",
    "arr=[56,71,18,45,10,34,20]\n",
    "r=reverse_arr(arr)\n",
    "print(r)"
   ]
  },
  {
   "cell_type": "code",
   "execution_count": null,
   "metadata": {},
   "outputs": [],
   "source": []
  }
 ],
 "metadata": {
  "kernelspec": {
   "display_name": "Python 3",
   "language": "python",
   "name": "python3"
  },
  "language_info": {
   "codemirror_mode": {
    "name": "ipython",
    "version": 3
   },
   "file_extension": ".py",
   "mimetype": "text/x-python",
   "name": "python",
   "nbconvert_exporter": "python",
   "pygments_lexer": "ipython3",
   "version": "3.9.6"
  }
 },
 "nbformat": 4,
 "nbformat_minor": 2
}
