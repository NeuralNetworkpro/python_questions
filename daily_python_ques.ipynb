{
 "cells": [
  {
   "cell_type": "code",
   "execution_count": 19,
   "metadata": {},
   "outputs": [
    {
     "name": "stdout",
     "output_type": "stream",
     "text": [
      "[[1], [1, 2], [1, 2, 3], [2], [2, 3], [3]]\n"
     ]
    }
   ],
   "source": [
    "# find the substrings\n",
    "\n",
    "def find_substring(arr):\n",
    "    n=len(arr)\n",
    "    x=[]\n",
    "    for i in range(n):\n",
    "        for j in range(i,n):\n",
    "            x.append(arr[i:j+1])\n",
    "    print(x)\n",
    "\n",
    "arr=[1,2,3]\n",
    "find_substring(arr)"
   ]
  },
  {
   "cell_type": "code",
   "execution_count": 20,
   "metadata": {},
   "outputs": [
    {
     "name": "stdout",
     "output_type": "stream",
     "text": [
      "Subarrays: [[1], [1, 2], [1, 2, 3], [2], [2, 3], [3]]\n"
     ]
    }
   ],
   "source": [
    "arr = [1, 2, 3]\n",
    "\n",
    "# List to store all subarrays\n",
    "subarrays = []\n",
    "\n",
    "# Loop through all starting points\n",
    "for i in range(len(arr)):\n",
    "    # Loop through all ending points\n",
    "    for j in range(i + 1, len(arr) + 1):\n",
    "        subarrays.append(arr[i:j])\n",
    "\n",
    "# Output the result\n",
    "print(\"Subarrays:\", subarrays)\n"
   ]
  },
  {
   "cell_type": "code",
   "execution_count": null,
   "metadata": {},
   "outputs": [],
   "source": []
  }
 ],
 "metadata": {
  "kernelspec": {
   "display_name": "Python 3",
   "language": "python",
   "name": "python3"
  },
  "language_info": {
   "codemirror_mode": {
    "name": "ipython",
    "version": 3
   },
   "file_extension": ".py",
   "mimetype": "text/x-python",
   "name": "python",
   "nbconvert_exporter": "python",
   "pygments_lexer": "ipython3",
   "version": "3.9.6"
  }
 },
 "nbformat": 4,
 "nbformat_minor": 2
}
