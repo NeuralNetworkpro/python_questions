{
 "cells": [
  {
   "cell_type": "code",
   "execution_count": 19,
   "metadata": {},
   "outputs": [
    {
     "name": "stdout",
     "output_type": "stream",
     "text": [
      "[[1], [1, 2], [1, 2, 3], [2], [2, 3], [3]]\n"
     ]
    }
   ],
   "source": [
    "# find the substrings\n",
    "\n",
    "def find_substring(arr):\n",
    "    n=len(arr)\n",
    "    x=[]\n",
    "    for i in range(n):\n",
    "        for j in range(i,n):\n",
    "            x.append(arr[i:j+1])\n",
    "    print(x)\n",
    "\n",
    "arr=[1,2,3]\n",
    "find_substring(arr)"
   ]
  },
  {
   "cell_type": "code",
   "execution_count": 20,
   "metadata": {},
   "outputs": [
    {
     "name": "stdout",
     "output_type": "stream",
     "text": [
      "Subarrays: [[1], [1, 2], [1, 2, 3], [2], [2, 3], [3]]\n"
     ]
    }
   ],
   "source": [
    "arr = [1, 2, 3]\n",
    "\n",
    "# List to store all subarrays\n",
    "subarrays = []\n",
    "\n",
    "# Loop through all starting points\n",
    "for i in range(len(arr)):\n",
    "    # Loop through all ending points\n",
    "    for j in range(i + 1, len(arr) + 1):\n",
    "        subarrays.append(arr[i:j])\n",
    "\n",
    "# Output the result\n",
    "print(\"Subarrays:\", subarrays)\n"
   ]
  },
  {
   "cell_type": "code",
   "execution_count": 37,
   "metadata": {},
   "outputs": [
    {
     "name": "stdout",
     "output_type": "stream",
     "text": [
      "False\n"
     ]
    }
   ],
   "source": [
    "# search in unsorted array\n",
    "def sea_arry(arr,target):\n",
    "    for ele in arr:\n",
    "        if (ele ==target):\n",
    "            return True\n",
    "\n",
    "    return False\n",
    "\n",
    "arr=[56,71,18,45,10,34,20]\n",
    "target=57\n",
    "r=sea_arry(arr,target)\n",
    "print(r)"
   ]
  },
  {
   "cell_type": "code",
   "execution_count": 38,
   "metadata": {},
   "outputs": [
    {
     "name": "stdout",
     "output_type": "stream",
     "text": [
      "Negative number\n",
      "Zero\n",
      "Positive number\n"
     ]
    }
   ],
   "source": [
    "def example_function(x):\n",
    "    if x < 0:\n",
    "        return \"Negative number\"\n",
    "    elif x == 0:\n",
    "        return \"Zero\"\n",
    "    else:\n",
    "        return \"Positive number\"\n",
    "\n",
    "# Test cases\n",
    "print(example_function(-5))  # Output: Negative number\n",
    "print(example_function(0))   # Output: Zero\n",
    "print(example_function(5))   # Output: Positive number\n"
   ]
  },
  {
   "cell_type": "code",
   "execution_count": 40,
   "metadata": {},
   "outputs": [
    {
     "name": "stdout",
     "output_type": "stream",
     "text": [
      "[20, 34, 10, 45, 18, 71, 56]\n"
     ]
    }
   ],
   "source": [
    "# reverse a array\n",
    "\n",
    "def reverse_arr(arr):\n",
    "    n=len(arr)\n",
    "    for i in range(n//2+1):\n",
    "        arr[i],arr[n-1-i]=arr[n-1-i],arr[i]\n",
    "        \n",
    "\n",
    "arr=[56,71,18,45,10,34,20]\n",
    "reverse_arr(arr)\n",
    "print(arr)"
   ]
  },
  {
   "cell_type": "code",
   "execution_count": 47,
   "metadata": {},
   "outputs": [
    {
     "name": "stdout",
     "output_type": "stream",
     "text": [
      "[20, 34, 10, 45, 18, 71, 56]\n"
     ]
    }
   ],
   "source": [
    "def reverse_arr(arr):\n",
    "    a=[]\n",
    "    n=len(arr)\n",
    "    for i in range(n-1,-1,-1):\n",
    "        a.append(arr[i])\n",
    "    return a\n",
    "        \n",
    "\n",
    "arr=[56,71,18,45,10,34,20]\n",
    "r=reverse_arr(arr)\n",
    "print(r)"
   ]
  },
  {
   "cell_type": "code",
   "execution_count": 12,
   "metadata": {},
   "outputs": [
    {
     "data": {
      "text/plain": [
       "483"
      ]
     },
     "execution_count": 12,
     "metadata": {},
     "output_type": "execute_result"
    }
   ],
   "source": [
    "# maxium and minimum element \n",
    "def find_max(a):\n",
    "    max=a[0]\n",
    "    n=len(a)\n",
    "    for i in range(1,n):\n",
    "        if (a[i]>max):\n",
    "            max=a[i]\n",
    "    return max\n",
    "\n",
    "a=[12,45,6,7,89,45,33,9,67,483,46]\n",
    "find_max(a)\n"
   ]
  },
  {
   "cell_type": "code",
   "execution_count": 11,
   "metadata": {},
   "outputs": [
    {
     "data": {
      "text/plain": [
       "6"
      ]
     },
     "execution_count": 11,
     "metadata": {},
     "output_type": "execute_result"
    }
   ],
   "source": [
    "def find_min(a):\n",
    "    min=a[0]\n",
    "    n=len(a)\n",
    "    for i in range(1,n):\n",
    "        if (a[i]<min):\n",
    "            min=a[i]\n",
    "    return min\n",
    "\n",
    "a=[12,45,6,7,89,45,33,9,67,483,46]\n",
    "find_min(a)"
   ]
  },
  {
   "cell_type": "code",
   "execution_count": null,
   "metadata": {},
   "outputs": [
    {
     "name": "stdout",
     "output_type": "stream",
     "text": [
      "66\n"
     ]
    }
   ],
   "source": [
    "# find the k maximum - 2nd maximum \n",
    "def find_k_max(arr,k,n):\n",
    "    for j in range(k):\n",
    "        max=j\n",
    "        for i in range(j+1,n):\n",
    "            if (arr[i]>arr[max]):\n",
    "                max=i\n",
    "        arr[j],arr[max]=arr[max],arr[j]\n",
    "    return arr[k-1]\n",
    "\n",
    "\n",
    "arr=[9,6,7,4,3,55,66,77,45]\n",
    "k=2\n",
    "n=len(arr)\n",
    "res=find_k_max(arr,k,n)\n",
    "print(res)"
   ]
  },
  {
   "cell_type": "code",
   "execution_count": 23,
   "metadata": {},
   "outputs": [
    {
     "name": "stdout",
     "output_type": "stream",
     "text": [
      "6\n"
     ]
    }
   ],
   "source": [
    "# find the k minmum - 2nd minmum\n",
    "def find_k_min(arr,k,n):\n",
    "    for j in range(k):\n",
    "        min=j\n",
    "        for i in range(j+1,n):\n",
    "            if (arr[i]<arr[min]):\n",
    "                min=i\n",
    "        arr[j],arr[min]=arr[min],arr[j]\n",
    "    return arr[k-1]\n",
    "\n",
    "\n",
    "arr=[9,6,7,4,3,55,66,77,45]\n",
    "k=3\n",
    "n=len(arr)\n",
    "res=find_k_min(arr,k,n)\n",
    "print(res)"
   ]
  },
  {
   "cell_type": "code",
   "execution_count": 8,
   "metadata": {},
   "outputs": [
    {
     "name": "stdout",
     "output_type": "stream",
     "text": [
      "[-1, -1]\n"
     ]
    }
   ],
   "source": [
    "# two sum leet code\n",
    "arr = [1,1]\n",
    "def sum_leet(a,target):\n",
    "    for i in range(len(a)):\n",
    "        for j in range(i+1,len(a)):\n",
    "            if a[i]+a[j]==target:\n",
    "                return [i,j]\n",
    "    return [-1,-1]        \n",
    "print(sum_leet(arr,3))"
   ]
  },
  {
   "cell_type": "code",
   "execution_count": 10,
   "metadata": {},
   "outputs": [
    {
     "name": "stdout",
     "output_type": "stream",
     "text": [
      "False\n"
     ]
    }
   ],
   "source": [
    "# check if elements are repeated\n",
    "arr = [1,2,3]\n",
    "def check_duplicates(a):\n",
    "    b=[]\n",
    "    for i in range(len(a)):\n",
    "        if a[i] in b:\n",
    "            return True\n",
    "        else:\n",
    "            b.append(a[i])\n",
    "    return False\n",
    "\n",
    "\n",
    "print(check_duplicates(arr))\n"
   ]
  },
  {
   "cell_type": "code",
   "execution_count": 12,
   "metadata": {},
   "outputs": [
    {
     "name": "stdout",
     "output_type": "stream",
     "text": [
      "[15, 15]\n"
     ]
    }
   ],
   "source": [
    "# sum of the diagonal elements of a 2-D array\n",
    "arr = [[1,2,3],[4,5,6],[7,8,9]]\n",
    "def diagonal_sum(a):\n",
    "    sum_p=0\n",
    "    sum_s=0\n",
    "    for i in range(len(a)):\n",
    "        for j in range(0,len(a[i])):\n",
    "            if i==j:\n",
    "                sum_p = sum_p+a[i][j]\n",
    "            if i+j==2:\n",
    "                sum_s=sum_s+a[i][j]\n",
    "                \n",
    "\n",
    "    return [sum_p,sum_s]\n",
    "\n",
    "print(diagonal_sum(arr))"
   ]
  },
  {
   "cell_type": "code",
   "execution_count": 13,
   "metadata": {},
   "outputs": [
    {
     "name": "stdout",
     "output_type": "stream",
     "text": [
      "[15, 15]\n"
     ]
    }
   ],
   "source": [
    "arr = [[1,2,3],[4,5,6],[7,8,9]]\n",
    "def diagonal_sum(a,n):\n",
    "    sum_p=0\n",
    "    sum_s=0\n",
    "    for i in range(n):\n",
    "        sum_p=sum_p + a[i][i]\n",
    "        sum_s=sum_s + a[i][n-1-i]\n",
    "\n",
    "    return [sum_p,sum_s]\n",
    "n=3\n",
    "print(diagonal_sum(arr,n))"
   ]
  },
  {
   "cell_type": "code",
   "execution_count": 16,
   "metadata": {},
   "outputs": [
    {
     "name": "stdout",
     "output_type": "stream",
     "text": [
      "1 2 3 4 \n",
      "5 6 7 8 \n",
      "9 10 11 12 \n",
      "13 14 15 16 \n"
     ]
    }
   ],
   "source": [
    "# transpose\n",
    "\n",
    "mat=[[1,2,3,4],[5,6,7,8],[9,10,11,12],[13,14,15,16]]\n",
    "for row in mat:\n",
    "    for ele in row:\n",
    "        print(ele,end=' ')\n",
    "    print()"
   ]
  },
  {
   "cell_type": "code",
   "execution_count": 23,
   "metadata": {},
   "outputs": [],
   "source": [
    "def trans(arr,n):\n",
    "    for i in range(n):\n",
    "        for j in range(i+1,n):\n",
    "            arr[i][j],arr[j][i]=arr[j][i],arr[i][j]\n",
    "    return arr"
   ]
  },
  {
   "cell_type": "code",
   "execution_count": 24,
   "metadata": {},
   "outputs": [
    {
     "data": {
      "text/plain": [
       "[[1, 5, 9, 13], [2, 6, 10, 14], [3, 7, 11, 15], [4, 8, 12, 16]]"
      ]
     },
     "execution_count": 24,
     "metadata": {},
     "output_type": "execute_result"
    }
   ],
   "source": [
    "trans(mat,4)"
   ]
  },
  {
   "cell_type": "code",
   "execution_count": 42,
   "metadata": {},
   "outputs": [],
   "source": [
    "def rotate_mat(arr,n):\n",
    "    for i in range(n):\n",
    "        for j in range(n//2):\n",
    "            arr[i][j],arr[i][n-1-j]=arr[i][n-1-j],arr[i][j]\n",
    "    print(arr)\n",
    "    return arr\n",
    "\n"
   ]
  },
  {
   "cell_type": "code",
   "execution_count": 43,
   "metadata": {},
   "outputs": [],
   "source": [
    "mat=[[1,2,3,4],[5,6,7,8],[9,10,11,12],[13,14,15,16]]\n",
    "n=4"
   ]
  },
  {
   "cell_type": "code",
   "execution_count": 44,
   "metadata": {},
   "outputs": [],
   "source": [
    "def rotate(mat,n):\n",
    "    trans(mat,n)\n",
    "    rotate_mat(mat,n)"
   ]
  },
  {
   "cell_type": "code",
   "execution_count": 45,
   "metadata": {},
   "outputs": [
    {
     "name": "stdout",
     "output_type": "stream",
     "text": [
      "[[13, 9, 5, 1], [14, 10, 6, 2], [15, 11, 7, 3], [16, 12, 8, 4]]\n"
     ]
    }
   ],
   "source": [
    "rotate(mat,n)"
   ]
  },
  {
   "cell_type": "code",
   "execution_count": 52,
   "metadata": {},
   "outputs": [],
   "source": [
    "# 2d problem - snake print in 2d array\n",
    "\n",
    "arr=[[1,2,3],[4,5,6],[7,8,9]]\n",
    "n=3\n",
    "\n",
    "def snake_pattern(arr,n):\n",
    "    res=[]\n",
    "    for i in range(n):\n",
    "        if i % 2==0:\n",
    "            for j in range(n):\n",
    "                res.append(arr[i][j])\n",
    "        else: \n",
    "            for j in range(n-1,-1,-1):\n",
    "                res.append(arr[i][j])\n",
    "    return res\n",
    "                \n",
    "\n",
    "\n",
    "\n"
   ]
  },
  {
   "cell_type": "code",
   "execution_count": 53,
   "metadata": {},
   "outputs": [
    {
     "data": {
      "text/plain": [
       "[1, 2, 3, 6, 5, 4, 7, 8, 9]"
      ]
     },
     "execution_count": 53,
     "metadata": {},
     "output_type": "execute_result"
    }
   ],
   "source": [
    "snake_pattern(arr,n)"
   ]
  },
  {
   "cell_type": "code",
   "execution_count": 54,
   "metadata": {},
   "outputs": [],
   "source": [
    "# spiral travversal of a 2d matrix\n",
    "\n",
    "mat=[[1,2,3,4],[5,6,7,8],[9,10,11,12],[13,14,15,16]]\n",
    "m=4   # no of rows\n",
    "n=4   # no of cols\n",
    "\n",
    "def spiral_tr(mat,n):\n",
    "    left=0\n",
    "    right=n-1\n",
    "    top=0\n",
    "    bottom=m-1\n",
    "    counter=0\n",
    "    while (counter< m*n):\n",
    "        if (counter >= m*n):\n",
    "            break\n",
    "        for j in range(left , right+1):\n",
    "            i=top\n",
    "            print(mat[i][j],end=\" \")\n",
    "            counter += 1\n",
    "\n",
    "        if (counter >= m*n):\n",
    "            break\n",
    "        for i in range(top+1,bottom+1):\n",
    "            j=right\n",
    "            print(mat[i][j], end=\" \")\n",
    "            counter += 1\n",
    "        \n",
    "        if (counter >= m*n):\n",
    "            break\n",
    "        for j in range(right-1,left-1,-1):\n",
    "            i=bottom\n",
    "            print(mat[i][j], end=\" \")\n",
    "            counter += 1\n",
    "        \n",
    "        if (counter >= m*n):\n",
    "            break\n",
    "        for i in range(bottom-1,top,-1):\n",
    "            j=left\n",
    "            print(mat[i][j], end=\" \")\n",
    "            counter += 1\n",
    "        left+=1\n",
    "        right-=1\n",
    "        top+=1\n",
    "        bottom-=1\n",
    "\n",
    "\n",
    "\n"
   ]
  },
  {
   "cell_type": "code",
   "execution_count": 56,
   "metadata": {},
   "outputs": [
    {
     "name": "stdout",
     "output_type": "stream",
     "text": [
      "1 2 3 4 8 12 16 15 14 13 9 5 6 7 11 10 "
     ]
    }
   ],
   "source": [
    "spiral_tr(mat,4)"
   ]
  },
  {
   "cell_type": "code",
   "execution_count": null,
   "metadata": {},
   "outputs": [],
   "source": []
  }
 ],
 "metadata": {
  "kernelspec": {
   "display_name": "Python 3",
   "language": "python",
   "name": "python3"
  },
  "language_info": {
   "codemirror_mode": {
    "name": "ipython",
    "version": 3
   },
   "file_extension": ".py",
   "mimetype": "text/x-python",
   "name": "python",
   "nbconvert_exporter": "python",
   "pygments_lexer": "ipython3",
   "version": "3.9.6"
  }
 },
 "nbformat": 4,
 "nbformat_minor": 2
}
