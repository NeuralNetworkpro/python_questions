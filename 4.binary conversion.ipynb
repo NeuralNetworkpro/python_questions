{
 "cells": [
  {
   "cell_type": "code",
   "execution_count": null,
   "metadata": {},
   "outputs": [],
   "source": [
    "# code for converting binary string into octal and hexa decimal conversion\n",
    "# wuestion\n",
    "bv=input(\"input the binary value preceded with 0B:\")\n",
    "iv=int(bv,2)\n",
    "ov=oct(iv)\n",
    "hv=hex(iv)\n",
    "print(\"oct({})={}\".format(bv,ov))\n",
    "print(\"hex({})={}\".format(bv,hv))"
   ]
  }
 ],
 "metadata": {
  "language_info": {
   "name": "python"
  }
 },
 "nbformat": 4,
 "nbformat_minor": 2
}
